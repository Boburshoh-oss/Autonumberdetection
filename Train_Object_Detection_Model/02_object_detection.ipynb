{
  "cells": [
    {
      "cell_type": "code",
      "execution_count": 1,
      "metadata": {
        "id": "lbVLFqZenRgf"
      },
      "outputs": [],
      "source": [
        "import numpy as np \n",
        "import pandas as pd\n",
        "import matplotlib.pyplot as plt\n",
        "import os \n",
        "import cv2\n"
      ]
    },
    {
      "cell_type": "code",
      "execution_count": 2,
      "metadata": {
        "colab": {
          "base_uri": "https://localhost:8080/",
          "height": 206
        },
        "id": "hg1c6iu6nmc9",
        "outputId": "840972bf-d8c4-40d0-cc47-d9df61cb8cdc"
      },
      "outputs": [
        {
          "data": {
            "text/html": [
              "<div>\n",
              "<style scoped>\n",
              "    .dataframe tbody tr th:only-of-type {\n",
              "        vertical-align: middle;\n",
              "    }\n",
              "\n",
              "    .dataframe tbody tr th {\n",
              "        vertical-align: top;\n",
              "    }\n",
              "\n",
              "    .dataframe thead th {\n",
              "        text-align: right;\n",
              "    }\n",
              "</style>\n",
              "<table border=\"1\" class=\"dataframe\">\n",
              "  <thead>\n",
              "    <tr style=\"text-align: right;\">\n",
              "      <th></th>\n",
              "      <th>filepath</th>\n",
              "      <th>xmin</th>\n",
              "      <th>xmax</th>\n",
              "      <th>ymin</th>\n",
              "      <th>ymax</th>\n",
              "    </tr>\n",
              "  </thead>\n",
              "  <tbody>\n",
              "    <tr>\n",
              "      <th>0</th>\n",
              "      <td>./images/N162.xml</td>\n",
              "      <td>147</td>\n",
              "      <td>336</td>\n",
              "      <td>169</td>\n",
              "      <td>209</td>\n",
              "    </tr>\n",
              "    <tr>\n",
              "      <th>1</th>\n",
              "      <td>./images/N220.xml</td>\n",
              "      <td>182</td>\n",
              "      <td>349</td>\n",
              "      <td>238</td>\n",
              "      <td>273</td>\n",
              "    </tr>\n",
              "    <tr>\n",
              "      <th>2</th>\n",
              "      <td>./images/N114.xml</td>\n",
              "      <td>15</td>\n",
              "      <td>200</td>\n",
              "      <td>33</td>\n",
              "      <td>126</td>\n",
              "    </tr>\n",
              "    <tr>\n",
              "      <th>3</th>\n",
              "      <td>./images/N136.xml</td>\n",
              "      <td>787</td>\n",
              "      <td>910</td>\n",
              "      <td>473</td>\n",
              "      <td>513</td>\n",
              "    </tr>\n",
              "    <tr>\n",
              "      <th>4</th>\n",
              "      <td>./images/N241.xml</td>\n",
              "      <td>251</td>\n",
              "      <td>542</td>\n",
              "      <td>308</td>\n",
              "      <td>385</td>\n",
              "    </tr>\n",
              "  </tbody>\n",
              "</table>\n",
              "</div>"
            ],
            "text/plain": [
              "            filepath  xmin  xmax  ymin  ymax\n",
              "0  ./images/N162.xml   147   336   169   209\n",
              "1  ./images/N220.xml   182   349   238   273\n",
              "2  ./images/N114.xml    15   200    33   126\n",
              "3  ./images/N136.xml   787   910   473   513\n",
              "4  ./images/N241.xml   251   542   308   385"
            ]
          },
          "execution_count": 2,
          "metadata": {},
          "output_type": "execute_result"
        }
      ],
      "source": [
        "df = pd.read_csv(\"labels.csv\")\n",
        "df.head()"
      ]
    },
    {
      "cell_type": "code",
      "execution_count": 3,
      "metadata": {
        "id": "5EBTqfTLoqhk"
      },
      "outputs": [],
      "source": [
        "import xml.etree.ElementTree as xet"
      ]
    },
    {
      "cell_type": "code",
      "execution_count": null,
      "metadata": {
        "id": "ZXbfcFvBpdK1"
      },
      "outputs": [],
      "source": [
        "from zipfile import ZipFile\n",
        "with ZipFile(\"/content/drive/MyDrive/images.zip\", 'r') as zipObj:\n",
        "  zipObj.extractall()"
      ]
    },
    {
      "cell_type": "code",
      "execution_count": 4,
      "metadata": {
        "colab": {
          "base_uri": "https://localhost:8080/",
          "height": 35
        },
        "id": "pyyyYDkAo9K4",
        "outputId": "fe5dd8b8-987b-426c-a1a1-5a8855a0737c"
      },
      "outputs": [
        {
          "data": {
            "text/plain": [
              "'./images/N162.xml'"
            ]
          },
          "execution_count": 4,
          "metadata": {},
          "output_type": "execute_result"
        }
      ],
      "source": [
        "filename = df['filepath'][0]\n",
        "filename"
      ]
    },
    {
      "cell_type": "code",
      "execution_count": 5,
      "metadata": {
        "id": "UCzB2Dfjo04s"
      },
      "outputs": [],
      "source": [
        "def get_filename(filename):\n",
        "  filename_image = xet.parse(filename).getroot().find('filename').text\n",
        "  filepath_image = os.path.join('./images', filename_image)\n",
        "  return filepath_image"
      ]
    },
    {
      "cell_type": "code",
      "execution_count": 6,
      "metadata": {
        "colab": {
          "base_uri": "https://localhost:8080/",
          "height": 35
        },
        "id": "BpKyFfqtpIoZ",
        "outputId": "e3ca854c-9e20-4c15-dc6e-7429abb05809"
      },
      "outputs": [
        {
          "data": {
            "text/plain": [
              "'./images/N162.jpeg'"
            ]
          },
          "execution_count": 6,
          "metadata": {},
          "output_type": "execute_result"
        }
      ],
      "source": [
        "get_filename(filename)"
      ]
    },
    {
      "cell_type": "code",
      "execution_count": 7,
      "metadata": {
        "colab": {
          "base_uri": "https://localhost:8080/"
        },
        "id": "h7CDIcaCqNwu",
        "outputId": "b3ba8b56-9b54-4056-8e27-7dd62e85b149"
      },
      "outputs": [
        {
          "data": {
            "text/plain": [
              "['./images/N162.jpeg',\n",
              " './images/N220.jpeg',\n",
              " './images/N114.jpeg',\n",
              " './images/N136.jpeg',\n",
              " './images/N241.jpeg',\n",
              " './images/N231.jpeg',\n",
              " './images/N99.jpeg',\n",
              " './images/N246.jpeg',\n",
              " './images/N57.jpeg',\n",
              " './images/N18.jpeg',\n",
              " './images/N90.jpeg',\n",
              " './images/N145.jpeg',\n",
              " './images/N191.jpeg',\n",
              " './images/N152.jpeg',\n",
              " './images/N21.jpeg',\n",
              " './images/N61.jpeg',\n",
              " './images/N38.jpeg',\n",
              " './images/N206.jpeg',\n",
              " './images/N96.jpeg',\n",
              " './images/N130.jpeg',\n",
              " './images/N245.jpeg',\n",
              " './images/N210.jpeg',\n",
              " './images/N225.jpeg',\n",
              " './images/N172.jpeg',\n",
              " './images/N197.jpeg',\n",
              " './images/N142.jpeg',\n",
              " './images/N184.jpeg',\n",
              " './images/N216.jpeg',\n",
              " './images/N67.jpeg',\n",
              " './images/N91.jpeg',\n",
              " './images/N201.jpeg',\n",
              " './images/N4.jpeg',\n",
              " './images/N230.jpeg',\n",
              " './images/N31.jpeg',\n",
              " './images/N86.jpeg',\n",
              " './images/N8.jpeg',\n",
              " './images/N17.jpeg',\n",
              " './images/N93.jpeg',\n",
              " './images/N192.jpeg',\n",
              " './images/N120.jpeg',\n",
              " './images/N44.jpeg',\n",
              " './images/N173.jpeg',\n",
              " './images/N208.jpeg',\n",
              " './images/N15.jpeg',\n",
              " './images/N193.jpeg',\n",
              " './images/N118.jpeg',\n",
              " './images/N244.jpeg',\n",
              " './images/N183.jpeg',\n",
              " './images/N14.jpeg',\n",
              " './images/N23.jpeg',\n",
              " './images/N215.jpeg',\n",
              " './images/N153.jpeg',\n",
              " './images/N49.jpeg',\n",
              " './images/N248.jpeg',\n",
              " './images/N30.jpeg',\n",
              " './images/N179.jpeg',\n",
              " './images/N143.jpeg',\n",
              " './images/N80.jpeg',\n",
              " './images/N117.jpeg',\n",
              " './images/N110.jpeg',\n",
              " './images/N88.jpeg',\n",
              " './images/N46.jpeg',\n",
              " './images/N47.jpeg',\n",
              " './images/N113.jpeg',\n",
              " './images/N199.jpeg',\n",
              " './images/N134.jpeg',\n",
              " './images/N121.jpeg',\n",
              " './images/N48.jpeg',\n",
              " './images/N54.jpeg',\n",
              " './images/N165.jpeg',\n",
              " './images/N218.jpeg',\n",
              " './images/N81.jpeg',\n",
              " './images/N213.jpeg',\n",
              " './images/N174.jpeg',\n",
              " './images/N154.jpeg',\n",
              " './images/N105.jpeg',\n",
              " './images/N24.jpeg',\n",
              " './images/N238.jpeg',\n",
              " './images/N22.jpeg',\n",
              " './images/N131.jpeg',\n",
              " './images/N226.jpeg',\n",
              " './images/N1.jpeg',\n",
              " './images/N186.jpeg',\n",
              " './images/N126.jpeg',\n",
              " './images/N177.jpeg',\n",
              " './images/N32.jpeg',\n",
              " './images/N176.jpeg',\n",
              " './images/N94.jpeg',\n",
              " './images/N37.jpeg',\n",
              " './images/N204.jpeg',\n",
              " './images/N53.jpeg',\n",
              " './images/N20.jpeg',\n",
              " './images/N28.jpeg',\n",
              " './images/N111.jpeg',\n",
              " './images/N144.jpeg',\n",
              " './images/N170.jpeg',\n",
              " './images/N233.jpeg',\n",
              " './images/N109.jpeg',\n",
              " './images/N119.jpeg',\n",
              " './images/N198.jpeg',\n",
              " './images/N112.jpeg',\n",
              " './images/N122.jpeg',\n",
              " './images/N36.jpeg',\n",
              " './images/N6.jpeg',\n",
              " './images/N89.jpeg',\n",
              " './images/N98.jpeg',\n",
              " './images/N188.jpeg',\n",
              " './images/N227.jpeg',\n",
              " './images/N209.jpeg',\n",
              " './images/N185.jpeg',\n",
              " './images/N236.jpeg',\n",
              " './images/N224.jpeg',\n",
              " './images/N187.jpeg',\n",
              " './images/N140.jpeg',\n",
              " './images/N25.jpeg',\n",
              " './images/N138.jpeg',\n",
              " './images/N42.jpeg',\n",
              " './images/N200.jpeg',\n",
              " './images/N207.jpeg',\n",
              " './images/N166.jpeg',\n",
              " './images/N237.jpeg',\n",
              " './images/N171.jpeg',\n",
              " './images/N27.jpeg',\n",
              " './images/N104.jpeg',\n",
              " './images/N74.jpeg',\n",
              " './images/N139.jpeg',\n",
              " './images/N222.jpeg',\n",
              " './images/N78.jpeg',\n",
              " './images/N95.jpeg',\n",
              " './images/N239.jpeg',\n",
              " './images/N149.jpeg',\n",
              " './images/N9.jpeg',\n",
              " './images/N35.jpeg',\n",
              " './images/N247.jpeg',\n",
              " './images/N147.jpeg',\n",
              " './images/N2.jpeg',\n",
              " './images/N66.jpeg',\n",
              " './images/N212.jpeg',\n",
              " './images/N163.jpeg',\n",
              " './images/N169.jpeg',\n",
              " './images/N5.jpeg',\n",
              " './images/N59.jpeg',\n",
              " './images/N70.jpeg',\n",
              " './images/N77.jpeg',\n",
              " './images/N106.jpeg',\n",
              " './images/N79.jpeg',\n",
              " './images/N168.jpeg',\n",
              " './images/N203.jpeg',\n",
              " './images/N217.jpeg',\n",
              " './images/N151.jpeg',\n",
              " './images/N92.jpeg',\n",
              " './images/N240.jpeg',\n",
              " './images/N102.jpeg',\n",
              " './images/N103.jpeg',\n",
              " './images/N135.jpeg',\n",
              " './images/N129.jpeg',\n",
              " './images/N195.jpeg',\n",
              " './images/N12.jpeg',\n",
              " './images/N3.jpeg',\n",
              " './images/N107.jpeg',\n",
              " './images/N123.jpeg',\n",
              " './images/N211.jpeg',\n",
              " './images/N178.jpeg',\n",
              " './images/N65.jpeg',\n",
              " './images/N223.jpeg',\n",
              " './images/N181.jpeg',\n",
              " './images/N242.jpeg',\n",
              " './images/N219.jpeg',\n",
              " './images/N141.jpeg',\n",
              " './images/N75.jpeg',\n",
              " './images/N19.jpeg',\n",
              " './images/N150.jpeg',\n",
              " './images/N40.jpeg',\n",
              " './images/N101.jpeg',\n",
              " './images/N137.jpeg',\n",
              " './images/N148.jpeg',\n",
              " './images/N158.jpeg',\n",
              " './images/N155.jpeg',\n",
              " './images/N175.jpeg',\n",
              " './images/N190.jpeg',\n",
              " './images/N116.jpeg',\n",
              " './images/N167.jpeg',\n",
              " './images/N34.jpeg',\n",
              " './images/N132.jpeg',\n",
              " './images/N232.jpeg',\n",
              " './images/N156.jpeg',\n",
              " './images/N52.jpeg',\n",
              " './images/N124.jpeg',\n",
              " './images/N50.jpeg',\n",
              " './images/N127.jpeg',\n",
              " './images/N45.jpeg',\n",
              " './images/N164.jpeg',\n",
              " './images/N43.jpeg',\n",
              " './images/N234.jpeg',\n",
              " './images/N11.jpeg',\n",
              " './images/N69.jpeg',\n",
              " './images/N72.jpeg',\n",
              " './images/N73.jpeg',\n",
              " './images/N100.jpeg',\n",
              " './images/N221.jpeg',\n",
              " './images/N82.jpeg',\n",
              " './images/N7.jpeg',\n",
              " './images/N196.jpeg',\n",
              " './images/N133.jpeg',\n",
              " './images/N63.jpeg',\n",
              " './images/N189.jpeg',\n",
              " './images/N205.jpeg',\n",
              " './images/N84.jpeg',\n",
              " './images/N51.jpeg',\n",
              " './images/N56.jpeg',\n",
              " './images/N214.jpeg',\n",
              " './images/N97.jpeg',\n",
              " './images/N160.jpeg',\n",
              " './images/N128.jpeg',\n",
              " './images/N33.jpeg',\n",
              " './images/N68.jpeg',\n",
              " './images/N58.jpeg',\n",
              " './images/N16.jpeg',\n",
              " './images/N229.jpeg',\n",
              " './images/N85.jpeg',\n",
              " './images/N108.jpeg',\n",
              " './images/N62.jpeg',\n",
              " './images/N235.jpeg',\n",
              " './images/N64.jpeg',\n",
              " './images/N202.jpeg']"
            ]
          },
          "execution_count": 7,
          "metadata": {},
          "output_type": "execute_result"
        }
      ],
      "source": [
        "image_path = list(df['filepath'].apply(get_filename))\n",
        "image_path"
      ]
    },
    {
      "cell_type": "code",
      "execution_count": 8,
      "metadata": {
        "id": "aww7tfdaq8-y"
      },
      "outputs": [],
      "source": [
        "#### verify image and output"
      ]
    },
    {
      "cell_type": "code",
      "execution_count": 9,
      "metadata": {
        "colab": {
          "base_uri": "https://localhost:8080/",
          "height": 35
        },
        "id": "SEYjRvW2rzHo",
        "outputId": "90cf87bf-1c5a-4a12-cd18-0846d961a14f"
      },
      "outputs": [
        {
          "data": {
            "text/plain": [
              "'./images/N162.jpeg'"
            ]
          },
          "execution_count": 9,
          "metadata": {},
          "output_type": "execute_result"
        }
      ],
      "source": [
        "file_path = image_path[0]\n",
        "file_path"
      ]
    },
    {
      "cell_type": "code",
      "execution_count": 10,
      "metadata": {},
      "outputs": [
        {
          "name": "stderr",
          "output_type": "stream",
          "text": [
            "qt.qpa.plugin: Could not find the Qt platform plugin \"wayland\" in \"/home/boburbek/projects/AutoNumberDetection/venv/lib/python3.10/site-packages/cv2/qt/plugins\"\n"
          ]
        }
      ],
      "source": [
        "img = cv2.imread(file_path)\n",
        "\n",
        "cv2.namedWindow('example', cv2.WINDOW_NORMAL)\n",
        "cv2.imshow('example',img)\n",
        "cv2.waitKey(0)\n",
        "cv2.destroyAllWindows()"
      ]
    },
    {
      "cell_type": "code",
      "execution_count": null,
      "metadata": {
        "colab": {
          "base_uri": "https://localhost:8080/",
          "height": 304
        },
        "id": "UBDN_7JHdnHe",
        "outputId": "83ed1429-fe9d-496d-dca1-d05b07cc8fa3"
      },
      "outputs": [],
      "source": [
        "cv2.rectangle(img,(1093,645),(1396,727),(0,255,0),3)\n",
        "cv2.imshow(img)\n",
        "cv2.waitKey(0)\n",
        "cv2.destroyAllWindows()"
      ]
    },
    {
      "cell_type": "code",
      "execution_count": null,
      "metadata": {
        "id": "s-a-L9TVf6Rv"
      },
      "outputs": [],
      "source": []
    }
  ],
  "metadata": {
    "colab": {
      "provenance": []
    },
    "kernelspec": {
      "display_name": "venv",
      "language": "python",
      "name": "python3"
    },
    "language_info": {
      "codemirror_mode": {
        "name": "ipython",
        "version": 3
      },
      "file_extension": ".py",
      "mimetype": "text/x-python",
      "name": "python",
      "nbconvert_exporter": "python",
      "pygments_lexer": "ipython3",
      "version": "3.10.6"
    },
    "vscode": {
      "interpreter": {
        "hash": "7140207d52aab156900fe3869c1c471328d40c691ebe57ff6276845947619446"
      }
    }
  },
  "nbformat": 4,
  "nbformat_minor": 0
}
